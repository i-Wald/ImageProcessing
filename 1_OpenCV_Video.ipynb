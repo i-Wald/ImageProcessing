{
 "cells": [
  {
   "cell_type": "code",
   "execution_count": 1,
   "id": "062cff01",
   "metadata": {},
   "outputs": [],
   "source": [
    "import cv2"
   ]
  },
  {
   "cell_type": "code",
   "execution_count": null,
   "id": "33db2083",
   "metadata": {},
   "outputs": [],
   "source": [
    "# 동영상 활용\n",
    "\n",
    "cap = cv2.VideoCapture(\"test.mp4\")\n",
    "width = int(cap.get(3))                     # 프레임 너비\n",
    "height = int(cap.get(4))                    # 프레임 높이\n",
    "fps = int(cap.get(5))                       # 초당 프레임 수\n",
    "count = int(cap.get(7))                     # 총 프레임 수\n",
    "\n",
    "print(width, height, fps, count)"
   ]
  },
  {
   "cell_type": "code",
   "execution_count": null,
   "id": "461d33fe",
   "metadata": {},
   "outputs": [],
   "source": [
    "# 동영상 띄우기\n",
    "\n",
    "while (cap.isOpened()):\n",
    "    retuns, frame = cap.read()              #동영상 파일을 한 프레임씩 읽기\n",
    "    if returns:    \n",
    "        cv2.imshow(\"test\", frame)           # 동영상을 'test'라는 이름으로 재생하기\n",
    "        if cv2.waitKey(30) & 0xFF == 27:   # ESC Key 사용 시 정지\n",
    "            break\n",
    "    else:\n",
    "        break\n",
    "    \n",
    "cap.release()                               # 동영상 종료 \n",
    "cv2.destroyAllWindows()"
   ]
  }
 ],
 "metadata": {
  "kernelspec": {
   "display_name": "Python 3 (ipykernel)",
   "language": "python",
   "name": "python3"
  },
  "language_info": {
   "codemirror_mode": {
    "name": "ipython",
    "version": 3
   },
   "file_extension": ".py",
   "mimetype": "text/x-python",
   "name": "python",
   "nbconvert_exporter": "python",
   "pygments_lexer": "ipython3",
   "version": "3.11.5"
  }
 },
 "nbformat": 4,
 "nbformat_minor": 5
}
