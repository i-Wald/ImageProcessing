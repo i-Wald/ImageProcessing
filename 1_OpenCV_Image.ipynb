{
 "cells": [
  {
   "cell_type": "code",
   "execution_count": null,
   "id": "be987160",
   "metadata": {},
   "outputs": [],
   "source": [
    "# 라이브러리\n",
    "\n",
    "import cv2"
   ]
  },
  {
   "cell_type": "code",
   "execution_count": null,
   "id": "336d4624",
   "metadata": {},
   "outputs": [],
   "source": [
    "# 컬러 이미지를 흑백 이미지로 변환\n",
    "\n",
    "img = cv2.imread(\"Lenna.png\", cv2.IMREAD_COLOR)\n",
    "convert_img = cv2.cvtColor(img_color, cv2.COLOR_BGR2GRAY)\n",
    "cv2.imshow(\"gray image\", convert_img)\n",
    "\n",
    "cv2.waitKey(0)\n",
    "cv2.destroyAllWindows()"
   ]
  },
  {
   "cell_type": "code",
   "execution_count": null,
   "id": "29966781",
   "metadata": {},
   "outputs": [],
   "source": [
    "# 이미지의 속성\n",
    "\n",
    "img = cv2.imread(\"Lenna.png\")\n",
    "print(img.shape)       # 이미지의 모양\n",
    "print(img.size)        # 픽셀의 개수\n",
    "print(type(img))       # 이미지의 자료형\n",
    "print(img.dtype)       # 픽셀의 자료형"
   ]
  },
  {
   "cell_type": "code",
   "execution_count": null,
   "id": "ba1eaa16",
   "metadata": {},
   "outputs": [],
   "source": [
    "# image size rescale\n",
    "\n",
    "img = cv2.imread(\"Lenna.png\", cv2.IMREAD_COLOR)\n",
    "height, width = img.shape[:1]                  # 크기 확인\n",
    "print(height, width)\n",
    "\n",
    "resize_img_area = cv2.resize(img, (125, 125), interpolation = cv2.INTER_AREA)\n",
    "resize_img_cubic = cv2.resize(img, (266, 266), interpolation = cv2.INTER_CUBIC)\n",
    "cv2.imshow(\"original\", img)\n",
    "cv2.imshow(\"reduced img\", resize_img_area)\n",
    "cv2.imshow(\"enlarged img\",resize_img_cubic)\n",
    "\n",
    "cv2.waitKey(0)\n",
    "cv2.destroyAllWindows()"
   ]
  },
  {
   "cell_type": "code",
   "execution_count": null,
   "id": "9db7b8b9",
   "metadata": {},
   "outputs": [],
   "source": [
    "# normalized image1\n",
    "\n",
    "img_gray = cv2.imread(\"Lenna.png\", cv2.IMREAD_GRAYSCALE)\n",
    "norm_img = (img_gray) * 1./255\n",
    "cv2.imshow(\"gray original\", img_gray)\n",
    "cv2.imshow('normalized img', norm_img)\n",
    "\n",
    "cv2.waitKey(0)\n",
    "cv2.destroyAllWindows()"
   ]
  },
  {
   "cell_type": "code",
   "execution_count": null,
   "id": "ec43388b",
   "metadata": {},
   "outputs": [],
   "source": [
    "# normalized image2\n",
    "\n",
    "img_gray = cv2.imread(\"Lenna.png\", cv2.IMREAD_GRAYSCALE)\n",
    "norm_img = cv2.normalize(img_gray, None, 0, 255, cv2.NORM_MINMAX)\n",
    "cv2.imshow(\"gray orginal\", img_gray)\n",
    "cv2.imshow(\"normalized img\", norm_img)\n",
    "\n",
    "cv2.waitKey(0)\n",
    "cv2.destroyAllWindows()"
   ]
  },
  {
   "cell_type": "code",
   "execution_count": null,
   "id": "a8624163",
   "metadata": {},
   "outputs": [],
   "source": [
    "# binary image filter\n",
    "\n",
    "img_gray = cv2.imread(\"Lenna.png\", cv2.IMREAD_GRAYSCALE)\n",
    "ret, bin_img = cv2.threshold(img_gray, 127, 255, cv2.THRESH_BINARY)\n",
    "ret2, bin_img_inv = cv2.threshold(img_gray, 127, 255, cv2.THRESH_BINARY_INV)\n",
    "\n",
    "print(ret)\n",
    "cv2.imshow(\"gray orginal\", img_gray)\n",
    "cv2.imshow(\"binary img\", bin_img)\n",
    "cv2.imshow(\"binary_inv img\", bin_img_inv)\n",
    "\n",
    "cv2.waitKey(0)\n",
    "cv2.destroyAllWindows()"
   ]
  },
  {
   "cell_type": "code",
   "execution_count": null,
   "id": "9102a214",
   "metadata": {},
   "outputs": [],
   "source": [
    "# Gaussian Blur filter\n",
    "\n",
    "img = cv2.imread(\"Lenna.png\", cv2.IMREAD_COLOR)\n",
    "img_blur = cv2.GaussianBlur(img, (3,3), 0)\n",
    "\n",
    "cv2.imshow(\"orginal\", img)\n",
    "cv2.imshow(\"blur\", img_blur)\n",
    "\n",
    "cv2.waitKey(0)\n",
    "cv2.destroyAllWindows()"
   ]
  },
  {
   "cell_type": "code",
   "execution_count": null,
   "id": "321eef68",
   "metadata": {},
   "outputs": [],
   "source": [
    "# Sobel filter\n",
    "\n",
    "img_gray = cv2.imread(\"Lenna.png\", cv2.IMREAD_GRAYSCALE)\n",
    "dx_img = cv2.Sobel(img_gray, -1, 1, 0)\n",
    "dy_img = cv2.Sobel(img_gray, -1, 0, 1)\n",
    "dxy_img = cv2.Sobel(img_gray, -1, 1, 1)\n",
    "\n",
    "cv2.imshow(\"gray orginal\", img_gray)\n",
    "cv2.imshow(\"x axis\", dx_img)\n",
    "cv2.imshow(\"y axis\", dy_img)\n",
    "cv2.imshow(\"xy axis\", dxy_img)\n",
    "\n",
    "cv2.waitKey(0)\n",
    "cv2.destroyAllWindows()"
   ]
  },
  {
   "cell_type": "code",
   "execution_count": null,
   "id": "7ca8b754",
   "metadata": {},
   "outputs": [],
   "source": [
    "# Edge- Canny filter\n",
    "\n",
    "img_gray = cv2.imread(\"Lenna.png\", cv2.IMREAD_GRAYSCALE)\n",
    "edge_img = cv2.Canny(img_gray, 50, 150)\n",
    "\n",
    "cv2.imshow(\"gray orginal\", img_gray)\n",
    "cv2.imshow(\"edged img\",edge_img)\n",
    "\n",
    "cv2.waitKey(0)\n",
    "cv2.destroyAllWindows()"
   ]
  }
 ],
 "metadata": {
  "kernelspec": {
   "display_name": "Python 3 (ipykernel)",
   "language": "python",
   "name": "python3"
  },
  "language_info": {
   "codemirror_mode": {
    "name": "ipython",
    "version": 3
   },
   "file_extension": ".py",
   "mimetype": "text/x-python",
   "name": "python",
   "nbconvert_exporter": "python",
   "pygments_lexer": "ipython3",
   "version": "3.11.5"
  }
 },
 "nbformat": 4,
 "nbformat_minor": 5
}
